{
 "cells": [
  {
   "cell_type": "markdown",
   "metadata": {},
   "source": [
    "### Import the relevant libraries"
   ]
  },
  {
   "cell_type": "code",
   "execution_count": 89,
   "metadata": {},
   "outputs": [],
   "source": [
    "import pandas as pd\n",
    "import numpy as np"
   ]
  },
  {
   "cell_type": "markdown",
   "metadata": {},
   "source": [
    "### Load the data"
   ]
  },
  {
   "cell_type": "code",
   "execution_count": 90,
   "metadata": {},
   "outputs": [
    {
     "data": {
      "text/html": [
       "<div>\n",
       "<style scoped>\n",
       "    .dataframe tbody tr th:only-of-type {\n",
       "        vertical-align: middle;\n",
       "    }\n",
       "\n",
       "    .dataframe tbody tr th {\n",
       "        vertical-align: top;\n",
       "    }\n",
       "\n",
       "    .dataframe thead th {\n",
       "        text-align: right;\n",
       "    }\n",
       "</style>\n",
       "<table border=\"1\" class=\"dataframe\">\n",
       "  <thead>\n",
       "    <tr style=\"text-align: right;\">\n",
       "      <th></th>\n",
       "      <th>Reason_1</th>\n",
       "      <th>Reason_2</th>\n",
       "      <th>Reason_3</th>\n",
       "      <th>Reason_4</th>\n",
       "      <th>Month Value</th>\n",
       "      <th>Day of the Week</th>\n",
       "      <th>Transportation Expense</th>\n",
       "      <th>Distance to Work</th>\n",
       "      <th>Age</th>\n",
       "      <th>Daily Work Load Average</th>\n",
       "      <th>Body Mass Index</th>\n",
       "      <th>Education</th>\n",
       "      <th>Children</th>\n",
       "      <th>Pet</th>\n",
       "      <th>Absenteeism Time in Hours</th>\n",
       "    </tr>\n",
       "  </thead>\n",
       "  <tbody>\n",
       "    <tr>\n",
       "      <th>0</th>\n",
       "      <td>0</td>\n",
       "      <td>0</td>\n",
       "      <td>0</td>\n",
       "      <td>1</td>\n",
       "      <td>7</td>\n",
       "      <td>1</td>\n",
       "      <td>289</td>\n",
       "      <td>36</td>\n",
       "      <td>33</td>\n",
       "      <td>239.554</td>\n",
       "      <td>30</td>\n",
       "      <td>0</td>\n",
       "      <td>2</td>\n",
       "      <td>1</td>\n",
       "      <td>4</td>\n",
       "    </tr>\n",
       "    <tr>\n",
       "      <th>1</th>\n",
       "      <td>0</td>\n",
       "      <td>0</td>\n",
       "      <td>0</td>\n",
       "      <td>0</td>\n",
       "      <td>7</td>\n",
       "      <td>1</td>\n",
       "      <td>118</td>\n",
       "      <td>13</td>\n",
       "      <td>50</td>\n",
       "      <td>239.554</td>\n",
       "      <td>31</td>\n",
       "      <td>0</td>\n",
       "      <td>1</td>\n",
       "      <td>0</td>\n",
       "      <td>0</td>\n",
       "    </tr>\n",
       "    <tr>\n",
       "      <th>2</th>\n",
       "      <td>0</td>\n",
       "      <td>0</td>\n",
       "      <td>0</td>\n",
       "      <td>1</td>\n",
       "      <td>7</td>\n",
       "      <td>2</td>\n",
       "      <td>179</td>\n",
       "      <td>51</td>\n",
       "      <td>38</td>\n",
       "      <td>239.554</td>\n",
       "      <td>31</td>\n",
       "      <td>0</td>\n",
       "      <td>0</td>\n",
       "      <td>0</td>\n",
       "      <td>2</td>\n",
       "    </tr>\n",
       "    <tr>\n",
       "      <th>3</th>\n",
       "      <td>1</td>\n",
       "      <td>0</td>\n",
       "      <td>0</td>\n",
       "      <td>0</td>\n",
       "      <td>7</td>\n",
       "      <td>3</td>\n",
       "      <td>279</td>\n",
       "      <td>5</td>\n",
       "      <td>39</td>\n",
       "      <td>239.554</td>\n",
       "      <td>24</td>\n",
       "      <td>0</td>\n",
       "      <td>2</td>\n",
       "      <td>0</td>\n",
       "      <td>4</td>\n",
       "    </tr>\n",
       "    <tr>\n",
       "      <th>4</th>\n",
       "      <td>0</td>\n",
       "      <td>0</td>\n",
       "      <td>0</td>\n",
       "      <td>1</td>\n",
       "      <td>7</td>\n",
       "      <td>3</td>\n",
       "      <td>289</td>\n",
       "      <td>36</td>\n",
       "      <td>33</td>\n",
       "      <td>239.554</td>\n",
       "      <td>30</td>\n",
       "      <td>0</td>\n",
       "      <td>2</td>\n",
       "      <td>1</td>\n",
       "      <td>2</td>\n",
       "    </tr>\n",
       "  </tbody>\n",
       "</table>\n",
       "</div>"
      ],
      "text/plain": [
       "   Reason_1  Reason_2  Reason_3  Reason_4  Month Value  Day of the Week  \\\n",
       "0         0         0         0         1            7                1   \n",
       "1         0         0         0         0            7                1   \n",
       "2         0         0         0         1            7                2   \n",
       "3         1         0         0         0            7                3   \n",
       "4         0         0         0         1            7                3   \n",
       "\n",
       "   Transportation Expense  Distance to Work  Age  Daily Work Load Average  \\\n",
       "0                     289                36   33                  239.554   \n",
       "1                     118                13   50                  239.554   \n",
       "2                     179                51   38                  239.554   \n",
       "3                     279                 5   39                  239.554   \n",
       "4                     289                36   33                  239.554   \n",
       "\n",
       "   Body Mass Index  Education  Children  Pet  Absenteeism Time in Hours  \n",
       "0               30          0         2    1                          4  \n",
       "1               31          0         1    0                          0  \n",
       "2               31          0         0    0                          2  \n",
       "3               24          0         2    0                          4  \n",
       "4               30          0         2    1                          2  "
      ]
     },
     "execution_count": 90,
     "metadata": {},
     "output_type": "execute_result"
    }
   ],
   "source": [
    "data_preprocessed = pd.read_csv('data/Absenteeism-preprocessed.csv')\n",
    "data_preprocessed.head()"
   ]
  },
  {
   "cell_type": "markdown",
   "metadata": {},
   "source": [
    "We will use a logistic regression which will take the reason for absence month of the year day of the week transportation expense distance to work age daily work load average education children and pets of a given employee and we'll predict their absenteeism we expect that half of those predictors won't have merit.\n",
    "To me it seems that the reason for absence will be the most indicative maybe workload will have something to do with it as well since the busier a person is the less he or she will want to skip work. Finally children and pets together with distance from work should also have something to do with absenteeism. If your child or pet is sick at home you'll have to go home take them to the doctor and get them back which will be much more time consuming than a simple visit to the doctor OK. We have a good idea what to expect."
   ]
  },
  {
   "cell_type": "markdown",
   "metadata": {},
   "source": [
    "### Create the Target\n",
    "\n",
    "We've got a bit more pre processing to do but it is of a different kind. We said we will use a logistic regression to predict absenteeism logistic regression is a type of classification so we will be basically classifying people into classes. What are these classes then.That's what we must settle first and then pre process our data to reflect this decision the approach we will use here is to create two classes one representing people who have been excessively absent and another which represents people that haven't for this exercise. We will use a methodology which is a tiny bit naive but quite numerically stable.We will take the median value of the absenteeism time into our cell everything below the median would be considered normal. Everything above the median would be excessive OK let's find that median there is the panda's method called median which can help us with this task."
   ]
  },
  {
   "cell_type": "code",
   "execution_count": 91,
   "metadata": {},
   "outputs": [
    {
     "data": {
      "text/plain": [
       "3.0"
      ]
     },
     "execution_count": 91,
     "metadata": {},
     "output_type": "execute_result"
    }
   ],
   "source": [
    "data_preprocessed['Absenteeism Time in Hours'].median()"
   ]
  },
  {
   "cell_type": "markdown",
   "metadata": {},
   "source": [
    "Good **three hours** is our cutoff line. If an observation has been absent for less than three hours we will assign it the value of zero. Otherwise the value of 1 in supervised machine learning we call these zeros and ones targets. These are the values we are aiming for. Our task will be to predict whether we will obtain a zero or a one. So let's create a new variable called targets which will measure if a person has been absent for more than three hours. The `np.where` function in this method is constructed with three arguments a condition, value of true and value if false. Our condition is that the series absenteeism time and hours from data pre processed is bigger than 3 if it is true. We want the function to return 1 otherwise zero."
   ]
  },
  {
   "attachments": {
    "where_function.png": {
     "image/png": "[encoded data removed]"
    }
   },
   "cell_type": "markdown",
   "metadata": {},
   "source": [
    "![where_function.png](attachment:where_function.png)"
   ]
  },
  {
   "cell_type": "code",
   "execution_count": 92,
   "metadata": {},
   "outputs": [],
   "source": [
    "targets = np.where(data_preprocessed['Absenteeism Time in Hours'] > data_preprocessed['Absenteeism Time in Hours'].median(),1,0)"
   ]
  },
  {
   "cell_type": "code",
   "execution_count": 93,
   "metadata": {},
   "outputs": [
    {
     "data": {
      "text/plain": [
       "array([1, 0, 0, 1, 0, 0, 1, 1, 1, 1, 1, 1, 1, 0, 1, 1, 0, 1, 1, 0, 1, 0,\n",
       "       1, 1, 1, 1, 0, 1, 1, 0, 1, 1, 1, 1, 0, 0, 1, 1, 1, 1, 0, 1, 1, 1,\n",
       "       0, 0, 0, 1, 1, 1, 0, 0, 0, 0, 0, 0, 0, 0, 0, 0, 0, 1, 0, 0, 0, 0,\n",
       "       0, 0, 0, 0, 0, 1, 1, 0, 1, 1, 0, 1, 0, 0, 0, 0, 1, 1, 1, 1, 1, 1,\n",
       "       0, 1, 0, 1, 0, 1, 0, 0, 1, 0, 0, 1, 0, 1, 0, 1, 1, 1, 0, 0, 0, 1,\n",
       "       0, 1, 0, 0, 0, 0, 1, 0, 0, 0, 0, 0, 0, 0, 0, 0, 0, 0, 0, 1, 1, 0,\n",
       "       0, 0, 0, 0, 0, 0, 1, 1, 0, 1, 0, 1, 1, 1, 0, 0, 0, 1, 0, 1, 0, 0,\n",
       "       1, 0, 1, 0, 1, 1, 1, 1, 0, 1, 1, 1, 1, 1, 1, 1, 1, 0, 1, 1, 0, 1,\n",
       "       0, 1, 1, 0, 1, 0, 0, 0, 0, 0, 0, 1, 0, 0, 1, 1, 0, 0, 1, 0, 1, 1,\n",
       "       1, 1, 1, 1, 0, 0, 1, 0, 0, 1, 1, 1, 0, 0, 1, 0, 0, 0, 0, 0, 1, 1,\n",
       "       1, 1, 1, 1, 1, 1, 1, 1, 1, 1, 0, 1, 1, 0, 0, 0, 1, 1, 1, 1, 1, 1,\n",
       "       0, 1, 1, 0, 1, 1, 1, 1, 1, 0, 1, 0, 0, 1, 0, 0, 1, 1, 0, 1, 0, 0,\n",
       "       0, 0, 0, 1, 1, 1, 1, 0, 1, 0, 1, 0, 0, 0, 1, 1, 0, 1, 1, 1, 0, 0,\n",
       "       0, 1, 1, 1, 1, 1, 1, 0, 0, 1, 0, 1, 0, 1, 0, 1, 0, 0, 0, 0, 0, 1,\n",
       "       1, 0, 1, 0, 0, 0, 1, 1, 0, 1, 0, 1, 0, 0, 1, 1, 1, 0, 0, 0, 0, 0,\n",
       "       1, 1, 1, 0, 1, 1, 0, 0, 0, 0, 0, 0, 0, 0, 1, 1, 0, 0, 0, 1, 0, 0,\n",
       "       1, 1, 1, 0, 0, 1, 1, 1, 0, 0, 1, 1, 1, 1, 1, 0, 0, 0, 0, 0, 0, 0,\n",
       "       0, 0, 0, 1, 1, 0, 1, 0, 0, 0, 1, 0, 0, 1, 0, 0, 1, 1, 0, 1, 0, 1,\n",
       "       1, 1, 1, 1, 0, 1, 0, 0, 1, 0, 0, 0, 1, 1, 1, 0, 1, 0, 1, 1, 1, 1,\n",
       "       1, 0, 1, 1, 1, 1, 0, 1, 0, 1, 0, 1, 0, 0, 0, 0, 1, 0, 1, 0, 0, 1,\n",
       "       0, 0, 0, 0, 1, 1, 0, 1, 1, 0, 1, 1, 0, 0, 0, 1, 0, 0, 0, 1, 0, 1,\n",
       "       1, 1, 1, 1, 1, 1, 1, 0, 0, 1, 0, 0, 1, 1, 1, 0, 0, 0, 1, 0, 1, 1,\n",
       "       1, 1, 1, 1, 1, 1, 1, 0, 1, 0, 0, 0, 0, 0, 0, 0, 1, 0, 1, 0, 0, 1,\n",
       "       1, 0, 0, 1, 0, 0, 0, 0, 0, 0, 1, 0, 1, 1, 0, 0, 0, 1, 0, 1, 0, 1,\n",
       "       1, 1, 0, 0, 0, 0, 1, 0, 1, 1, 1, 1, 1, 0, 0, 0, 0, 1, 1, 0, 0, 0,\n",
       "       1, 0, 0, 1, 0, 1, 0, 0, 0, 0, 0, 1, 0, 1, 1, 1, 0, 0, 0, 1, 1, 1,\n",
       "       0, 0, 0, 0, 1, 0, 0, 1, 0, 0, 1, 0, 0, 1, 0, 1, 0, 0, 0, 0, 0, 0,\n",
       "       0, 0, 1, 0, 0, 0, 0, 0, 0, 0, 0, 0, 1, 0, 1, 0, 0, 0, 0, 0, 0, 0,\n",
       "       0, 0, 0, 0, 0, 0, 1, 0, 0, 0, 0, 0, 0, 1, 1, 0, 0, 0, 1, 0, 0, 1,\n",
       "       0, 1, 0, 0, 0, 0, 0, 0, 0, 1, 1, 0, 0, 0, 1, 1, 1, 1, 1, 1, 1, 0,\n",
       "       1, 0, 0, 0, 0, 1, 0, 1, 0, 0, 1, 1, 0, 0, 1, 0, 0, 0, 1, 0, 0, 1,\n",
       "       1, 1, 0, 0, 0, 0, 0, 0, 0, 0, 1, 1, 1, 1, 0, 1, 0, 0])"
      ]
     },
     "execution_count": 93,
     "metadata": {},
     "output_type": "execute_result"
    }
   ],
   "source": [
    "targets"
   ]
  },
  {
   "cell_type": "markdown",
   "metadata": {},
   "source": [
    "I told you that using the median as a cutoff line is numerically stable and rigid. That's because by using the median we have implicitly balance the dataset roughly half of the targets are zeros while the other half ones as you may remember this will prevent our model from learning to output one of the two classes exclusively thinking it did very well in order to prove that. Let's divide the number of targets that are ones by the total number of targets the number of targets that are ones can be found by summing up all values of targets while the total number of targets is simply the shape on axis 0."
   ]
  },
  {
   "cell_type": "code",
   "execution_count": 94,
   "metadata": {},
   "outputs": [
    {
     "data": {
      "text/plain": [
       "0.45571428571428574"
      ]
     },
     "execution_count": 94,
     "metadata": {},
     "output_type": "execute_result"
    }
   ],
   "source": [
    "targets.sum()/targets.shape[0]"
   ]
  },
  {
   "cell_type": "markdown",
   "metadata": {},
   "source": [
    "The result is around zero point four six. So around forty six percent of the targets are ones thus around 54 percent of the targets are zeros.So our result will do for this exercise let's proceed noting that our two groups have been distributed roughly equally finally let's drop the absenteeism time and hours from the data frame since we won't be needing it."
   ]
  },
  {
   "cell_type": "code",
   "execution_count": 95,
   "metadata": {},
   "outputs": [
    {
     "data": {
      "text/html": [
       "<div>\n",
       "<style scoped>\n",
       "    .dataframe tbody tr th:only-of-type {\n",
       "        vertical-align: middle;\n",
       "    }\n",
       "\n",
       "    .dataframe tbody tr th {\n",
       "        vertical-align: top;\n",
       "    }\n",
       "\n",
       "    .dataframe thead th {\n",
       "        text-align: right;\n",
       "    }\n",
       "</style>\n",
       "<table border=\"1\" class=\"dataframe\">\n",
       "  <thead>\n",
       "    <tr style=\"text-align: right;\">\n",
       "      <th></th>\n",
       "      <th>Reason_1</th>\n",
       "      <th>Reason_2</th>\n",
       "      <th>Reason_3</th>\n",
       "      <th>Reason_4</th>\n",
       "      <th>Month Value</th>\n",
       "      <th>Day of the Week</th>\n",
       "      <th>Transportation Expense</th>\n",
       "      <th>Distance to Work</th>\n",
       "      <th>Age</th>\n",
       "      <th>Daily Work Load Average</th>\n",
       "      <th>Body Mass Index</th>\n",
       "      <th>Education</th>\n",
       "      <th>Children</th>\n",
       "      <th>Pet</th>\n",
       "      <th>Absenteeism Time in Hours</th>\n",
       "      <th>Excessive Absenteeism</th>\n",
       "    </tr>\n",
       "  </thead>\n",
       "  <tbody>\n",
       "    <tr>\n",
       "      <th>0</th>\n",
       "      <td>0</td>\n",
       "      <td>0</td>\n",
       "      <td>0</td>\n",
       "      <td>1</td>\n",
       "      <td>7</td>\n",
       "      <td>1</td>\n",
       "      <td>289</td>\n",
       "      <td>36</td>\n",
       "      <td>33</td>\n",
       "      <td>239.554</td>\n",
       "      <td>30</td>\n",
       "      <td>0</td>\n",
       "      <td>2</td>\n",
       "      <td>1</td>\n",
       "      <td>4</td>\n",
       "      <td>1</td>\n",
       "    </tr>\n",
       "    <tr>\n",
       "      <th>1</th>\n",
       "      <td>0</td>\n",
       "      <td>0</td>\n",
       "      <td>0</td>\n",
       "      <td>0</td>\n",
       "      <td>7</td>\n",
       "      <td>1</td>\n",
       "      <td>118</td>\n",
       "      <td>13</td>\n",
       "      <td>50</td>\n",
       "      <td>239.554</td>\n",
       "      <td>31</td>\n",
       "      <td>0</td>\n",
       "      <td>1</td>\n",
       "      <td>0</td>\n",
       "      <td>0</td>\n",
       "      <td>0</td>\n",
       "    </tr>\n",
       "    <tr>\n",
       "      <th>2</th>\n",
       "      <td>0</td>\n",
       "      <td>0</td>\n",
       "      <td>0</td>\n",
       "      <td>1</td>\n",
       "      <td>7</td>\n",
       "      <td>2</td>\n",
       "      <td>179</td>\n",
       "      <td>51</td>\n",
       "      <td>38</td>\n",
       "      <td>239.554</td>\n",
       "      <td>31</td>\n",
       "      <td>0</td>\n",
       "      <td>0</td>\n",
       "      <td>0</td>\n",
       "      <td>2</td>\n",
       "      <td>0</td>\n",
       "    </tr>\n",
       "    <tr>\n",
       "      <th>3</th>\n",
       "      <td>1</td>\n",
       "      <td>0</td>\n",
       "      <td>0</td>\n",
       "      <td>0</td>\n",
       "      <td>7</td>\n",
       "      <td>3</td>\n",
       "      <td>279</td>\n",
       "      <td>5</td>\n",
       "      <td>39</td>\n",
       "      <td>239.554</td>\n",
       "      <td>24</td>\n",
       "      <td>0</td>\n",
       "      <td>2</td>\n",
       "      <td>0</td>\n",
       "      <td>4</td>\n",
       "      <td>1</td>\n",
       "    </tr>\n",
       "    <tr>\n",
       "      <th>4</th>\n",
       "      <td>0</td>\n",
       "      <td>0</td>\n",
       "      <td>0</td>\n",
       "      <td>1</td>\n",
       "      <td>7</td>\n",
       "      <td>3</td>\n",
       "      <td>289</td>\n",
       "      <td>36</td>\n",
       "      <td>33</td>\n",
       "      <td>239.554</td>\n",
       "      <td>30</td>\n",
       "      <td>0</td>\n",
       "      <td>2</td>\n",
       "      <td>1</td>\n",
       "      <td>2</td>\n",
       "      <td>0</td>\n",
       "    </tr>\n",
       "  </tbody>\n",
       "</table>\n",
       "</div>"
      ],
      "text/plain": [
       "   Reason_1  Reason_2  Reason_3  Reason_4  Month Value  Day of the Week  \\\n",
       "0         0         0         0         1            7                1   \n",
       "1         0         0         0         0            7                1   \n",
       "2         0         0         0         1            7                2   \n",
       "3         1         0         0         0            7                3   \n",
       "4         0         0         0         1            7                3   \n",
       "\n",
       "   Transportation Expense  Distance to Work  Age  Daily Work Load Average  \\\n",
       "0                     289                36   33                  239.554   \n",
       "1                     118                13   50                  239.554   \n",
       "2                     179                51   38                  239.554   \n",
       "3                     279                 5   39                  239.554   \n",
       "4                     289                36   33                  239.554   \n",
       "\n",
       "   Body Mass Index  Education  Children  Pet  Absenteeism Time in Hours  \\\n",
       "0               30          0         2    1                          4   \n",
       "1               31          0         1    0                          0   \n",
       "2               31          0         0    0                          2   \n",
       "3               24          0         2    0                          4   \n",
       "4               30          0         2    1                          2   \n",
       "\n",
       "   Excessive Absenteeism  \n",
       "0                      1  \n",
       "1                      0  \n",
       "2                      0  \n",
       "3                      1  \n",
       "4                      0  "
      ]
     },
     "execution_count": 95,
     "metadata": {},
     "output_type": "execute_result"
    }
   ],
   "source": [
    "#let's add the targets to the data frame data pre processed.\n",
    "data_preprocessed['Excessive Absenteeism'] = targets\n",
    "data_preprocessed.head()"
   ]
  },
  {
   "cell_type": "code",
   "execution_count": 96,
   "metadata": {},
   "outputs": [
    {
     "data": {
      "text/html": [
       "<div>\n",
       "<style scoped>\n",
       "    .dataframe tbody tr th:only-of-type {\n",
       "        vertical-align: middle;\n",
       "    }\n",
       "\n",
       "    .dataframe tbody tr th {\n",
       "        vertical-align: top;\n",
       "    }\n",
       "\n",
       "    .dataframe thead th {\n",
       "        text-align: right;\n",
       "    }\n",
       "</style>\n",
       "<table border=\"1\" class=\"dataframe\">\n",
       "  <thead>\n",
       "    <tr style=\"text-align: right;\">\n",
       "      <th></th>\n",
       "      <th>Reason_1</th>\n",
       "      <th>Reason_2</th>\n",
       "      <th>Reason_3</th>\n",
       "      <th>Reason_4</th>\n",
       "      <th>Month Value</th>\n",
       "      <th>Day of the Week</th>\n",
       "      <th>Transportation Expense</th>\n",
       "      <th>Distance to Work</th>\n",
       "      <th>Age</th>\n",
       "      <th>Daily Work Load Average</th>\n",
       "      <th>Body Mass Index</th>\n",
       "      <th>Education</th>\n",
       "      <th>Children</th>\n",
       "      <th>Pet</th>\n",
       "      <th>Excessive Absenteeism</th>\n",
       "    </tr>\n",
       "  </thead>\n",
       "  <tbody>\n",
       "    <tr>\n",
       "      <th>0</th>\n",
       "      <td>0</td>\n",
       "      <td>0</td>\n",
       "      <td>0</td>\n",
       "      <td>1</td>\n",
       "      <td>7</td>\n",
       "      <td>1</td>\n",
       "      <td>289</td>\n",
       "      <td>36</td>\n",
       "      <td>33</td>\n",
       "      <td>239.554</td>\n",
       "      <td>30</td>\n",
       "      <td>0</td>\n",
       "      <td>2</td>\n",
       "      <td>1</td>\n",
       "      <td>1</td>\n",
       "    </tr>\n",
       "    <tr>\n",
       "      <th>1</th>\n",
       "      <td>0</td>\n",
       "      <td>0</td>\n",
       "      <td>0</td>\n",
       "      <td>0</td>\n",
       "      <td>7</td>\n",
       "      <td>1</td>\n",
       "      <td>118</td>\n",
       "      <td>13</td>\n",
       "      <td>50</td>\n",
       "      <td>239.554</td>\n",
       "      <td>31</td>\n",
       "      <td>0</td>\n",
       "      <td>1</td>\n",
       "      <td>0</td>\n",
       "      <td>0</td>\n",
       "    </tr>\n",
       "    <tr>\n",
       "      <th>2</th>\n",
       "      <td>0</td>\n",
       "      <td>0</td>\n",
       "      <td>0</td>\n",
       "      <td>1</td>\n",
       "      <td>7</td>\n",
       "      <td>2</td>\n",
       "      <td>179</td>\n",
       "      <td>51</td>\n",
       "      <td>38</td>\n",
       "      <td>239.554</td>\n",
       "      <td>31</td>\n",
       "      <td>0</td>\n",
       "      <td>0</td>\n",
       "      <td>0</td>\n",
       "      <td>0</td>\n",
       "    </tr>\n",
       "    <tr>\n",
       "      <th>3</th>\n",
       "      <td>1</td>\n",
       "      <td>0</td>\n",
       "      <td>0</td>\n",
       "      <td>0</td>\n",
       "      <td>7</td>\n",
       "      <td>3</td>\n",
       "      <td>279</td>\n",
       "      <td>5</td>\n",
       "      <td>39</td>\n",
       "      <td>239.554</td>\n",
       "      <td>24</td>\n",
       "      <td>0</td>\n",
       "      <td>2</td>\n",
       "      <td>0</td>\n",
       "      <td>1</td>\n",
       "    </tr>\n",
       "    <tr>\n",
       "      <th>4</th>\n",
       "      <td>0</td>\n",
       "      <td>0</td>\n",
       "      <td>0</td>\n",
       "      <td>1</td>\n",
       "      <td>7</td>\n",
       "      <td>3</td>\n",
       "      <td>289</td>\n",
       "      <td>36</td>\n",
       "      <td>33</td>\n",
       "      <td>239.554</td>\n",
       "      <td>30</td>\n",
       "      <td>0</td>\n",
       "      <td>2</td>\n",
       "      <td>1</td>\n",
       "      <td>0</td>\n",
       "    </tr>\n",
       "  </tbody>\n",
       "</table>\n",
       "</div>"
      ],
      "text/plain": [
       "   Reason_1  Reason_2  Reason_3  Reason_4  Month Value  Day of the Week  \\\n",
       "0         0         0         0         1            7                1   \n",
       "1         0         0         0         0            7                1   \n",
       "2         0         0         0         1            7                2   \n",
       "3         1         0         0         0            7                3   \n",
       "4         0         0         0         1            7                3   \n",
       "\n",
       "   Transportation Expense  Distance to Work  Age  Daily Work Load Average  \\\n",
       "0                     289                36   33                  239.554   \n",
       "1                     118                13   50                  239.554   \n",
       "2                     179                51   38                  239.554   \n",
       "3                     279                 5   39                  239.554   \n",
       "4                     289                36   33                  239.554   \n",
       "\n",
       "   Body Mass Index  Education  Children  Pet  Excessive Absenteeism  \n",
       "0               30          0         2    1                      1  \n",
       "1               31          0         1    0                      0  \n",
       "2               31          0         0    0                      0  \n",
       "3               24          0         2    0                      1  \n",
       "4               30          0         2    1                      0  "
      ]
     },
     "execution_count": 96,
     "metadata": {},
     "output_type": "execute_result"
    }
   ],
   "source": [
    "#Let's drop the 'Absenteeism Time in Hours' column and create new data and continiue with it \n",
    "\n",
    "data_with_target = data_preprocessed.drop(['Absenteeism Time in Hours'], axis=1)\n",
    "data_with_target.head()\n"
   ]
  },
  {
   "cell_type": "markdown",
   "metadata": {},
   "source": [
    "### Select the inputs for our regression.\n",
    "We will use the panda's method iloc, since it is extremely useful and common. There are two arguments.\n",
    "The first one refers to the row indices and the second one two column indices.\n",
    "```python\n",
    "#select (slices)data by position where given rows and columns wanted\n",
    "DataFrame.iloc[row indices, column incides]\n",
    "```\n",
    "I would actually prefer to select all rows so I can simply leave colons in the brackets as the first argument to select the inputs for our regression. We must select all rows and all columns except for `excessive absenteeism`. \n",
    "```python\n",
    "data_with_target.iloc[:,:14]\n",
    "#OR \n",
    "data_with_target.iloc[:,:-1]\n",
    "```\n",
    "\n",
    "Both method is fine, Let's use last one and assign the results `unscaled_inputs` variable"
   ]
  },
  {
   "cell_type": "code",
   "execution_count": 97,
   "metadata": {},
   "outputs": [
    {
     "data": {
      "text/plain": [
       "(700, 15)"
      ]
     },
     "execution_count": 97,
     "metadata": {},
     "output_type": "execute_result"
    }
   ],
   "source": [
    "data_with_target.shape"
   ]
  },
  {
   "cell_type": "code",
   "execution_count": 98,
   "metadata": {},
   "outputs": [
    {
     "data": {
      "text/html": [
       "<div>\n",
       "<style scoped>\n",
       "    .dataframe tbody tr th:only-of-type {\n",
       "        vertical-align: middle;\n",
       "    }\n",
       "\n",
       "    .dataframe tbody tr th {\n",
       "        vertical-align: top;\n",
       "    }\n",
       "\n",
       "    .dataframe thead th {\n",
       "        text-align: right;\n",
       "    }\n",
       "</style>\n",
       "<table border=\"1\" class=\"dataframe\">\n",
       "  <thead>\n",
       "    <tr style=\"text-align: right;\">\n",
       "      <th></th>\n",
       "      <th>Reason_1</th>\n",
       "      <th>Reason_2</th>\n",
       "      <th>Reason_3</th>\n",
       "      <th>Reason_4</th>\n",
       "      <th>Month Value</th>\n",
       "      <th>Day of the Week</th>\n",
       "      <th>Transportation Expense</th>\n",
       "      <th>Distance to Work</th>\n",
       "      <th>Age</th>\n",
       "      <th>Daily Work Load Average</th>\n",
       "      <th>Body Mass Index</th>\n",
       "      <th>Education</th>\n",
       "      <th>Children</th>\n",
       "      <th>Pet</th>\n",
       "    </tr>\n",
       "  </thead>\n",
       "  <tbody>\n",
       "    <tr>\n",
       "      <th>0</th>\n",
       "      <td>0</td>\n",
       "      <td>0</td>\n",
       "      <td>0</td>\n",
       "      <td>1</td>\n",
       "      <td>7</td>\n",
       "      <td>1</td>\n",
       "      <td>289</td>\n",
       "      <td>36</td>\n",
       "      <td>33</td>\n",
       "      <td>239.554</td>\n",
       "      <td>30</td>\n",
       "      <td>0</td>\n",
       "      <td>2</td>\n",
       "      <td>1</td>\n",
       "    </tr>\n",
       "    <tr>\n",
       "      <th>1</th>\n",
       "      <td>0</td>\n",
       "      <td>0</td>\n",
       "      <td>0</td>\n",
       "      <td>0</td>\n",
       "      <td>7</td>\n",
       "      <td>1</td>\n",
       "      <td>118</td>\n",
       "      <td>13</td>\n",
       "      <td>50</td>\n",
       "      <td>239.554</td>\n",
       "      <td>31</td>\n",
       "      <td>0</td>\n",
       "      <td>1</td>\n",
       "      <td>0</td>\n",
       "    </tr>\n",
       "    <tr>\n",
       "      <th>2</th>\n",
       "      <td>0</td>\n",
       "      <td>0</td>\n",
       "      <td>0</td>\n",
       "      <td>1</td>\n",
       "      <td>7</td>\n",
       "      <td>2</td>\n",
       "      <td>179</td>\n",
       "      <td>51</td>\n",
       "      <td>38</td>\n",
       "      <td>239.554</td>\n",
       "      <td>31</td>\n",
       "      <td>0</td>\n",
       "      <td>0</td>\n",
       "      <td>0</td>\n",
       "    </tr>\n",
       "    <tr>\n",
       "      <th>3</th>\n",
       "      <td>1</td>\n",
       "      <td>0</td>\n",
       "      <td>0</td>\n",
       "      <td>0</td>\n",
       "      <td>7</td>\n",
       "      <td>3</td>\n",
       "      <td>279</td>\n",
       "      <td>5</td>\n",
       "      <td>39</td>\n",
       "      <td>239.554</td>\n",
       "      <td>24</td>\n",
       "      <td>0</td>\n",
       "      <td>2</td>\n",
       "      <td>0</td>\n",
       "    </tr>\n",
       "    <tr>\n",
       "      <th>4</th>\n",
       "      <td>0</td>\n",
       "      <td>0</td>\n",
       "      <td>0</td>\n",
       "      <td>1</td>\n",
       "      <td>7</td>\n",
       "      <td>3</td>\n",
       "      <td>289</td>\n",
       "      <td>36</td>\n",
       "      <td>33</td>\n",
       "      <td>239.554</td>\n",
       "      <td>30</td>\n",
       "      <td>0</td>\n",
       "      <td>2</td>\n",
       "      <td>1</td>\n",
       "    </tr>\n",
       "  </tbody>\n",
       "</table>\n",
       "</div>"
      ],
      "text/plain": [
       "   Reason_1  Reason_2  Reason_3  Reason_4  Month Value  Day of the Week  \\\n",
       "0         0         0         0         1            7                1   \n",
       "1         0         0         0         0            7                1   \n",
       "2         0         0         0         1            7                2   \n",
       "3         1         0         0         0            7                3   \n",
       "4         0         0         0         1            7                3   \n",
       "\n",
       "   Transportation Expense  Distance to Work  Age  Daily Work Load Average  \\\n",
       "0                     289                36   33                  239.554   \n",
       "1                     118                13   50                  239.554   \n",
       "2                     179                51   38                  239.554   \n",
       "3                     279                 5   39                  239.554   \n",
       "4                     289                36   33                  239.554   \n",
       "\n",
       "   Body Mass Index  Education  Children  Pet  \n",
       "0               30          0         2    1  \n",
       "1               31          0         1    0  \n",
       "2               31          0         0    0  \n",
       "3               24          0         2    0  \n",
       "4               30          0         2    1  "
      ]
     },
     "execution_count": 98,
     "metadata": {},
     "output_type": "execute_result"
    }
   ],
   "source": [
    "unscaled_inputs = data_with_target.iloc[:,:-1]\n",
    "unscaled_inputs.head()"
   ]
  },
  {
   "cell_type": "markdown",
   "metadata": {},
   "source": [
    "### Standardize the data\n",
    "\n",
    "It is time to standardize our data. Let's import the relevant module from S.K. learn. First we must declare a standard scalar object.  Note that we have created an empty standard scalar object. There is no information in it for those of you that haven't seen scaling with standard scalar.\n",
    "**Standard scalar is subtract the mean and divide by the standard deviation from each point variable**\n",
    "The next step is to fit our input data. We write absenteeism scalar.fit unskilled inputs this line will calculate the mean and standard deviation of each feature from unskilled inputs. This information will be stored in the absenteeism scale object so it won't be an empty object anymore. It will contain information about the mean and standard deviation. This is extremely important whenever you get new data you will know that the standardization information is contained in the absenteeism scalar. Thus you'll be able to standardize the new data in the same way. Remember this as it will be very useful later on. OK so we have the information but the inputs are still on scaled. We have just prepare the scaling mechanism in order to apply it. We must use another method called transform so let's scale inputs be equal to absenteeism scalar dot transform unskilled inputs this operation transforms the unskilled inputs using the information contained in absenteeism scalar in simple words we subtract the mean and divide by the standard deviation whenever we get new data we will just apply absenteeism scalar dot transform new data to reach the same transformation as we just did. This is the most common and useful way to transform New data."
   ]
  },
  {
   "cell_type": "code",
   "execution_count": 99,
   "metadata": {},
   "outputs": [],
   "source": [
    "from sklearn.base import BaseEstimator, TransformerMixin\n",
    "from sklearn.preprocessing import StandardScaler\n",
    "class CustomScaler(BaseEstimator, TransformerMixin):\n",
    "    def __init__(self,columns,copy=True,with_mean=True,with_std=True):\n",
    "        self.scaler = StandardScaler(copy, with_mean,with_std)\n",
    "        self.columns = columns\n",
    "        self.mean_ = None\n",
    "        self.var_ = None\n",
    "        \n",
    "    def fit(self, X, y=None):\n",
    "        self.scaler.fit(X[self.columns], y)\n",
    "        self.mean_ = np.mean(X[self.columns])\n",
    "        self.var_ = np.var(X[self.columns])\n",
    "        return self\n",
    "    \n",
    "    def transform(self, X, y=None, copy=None):\n",
    "        init_col_order =X.columns\n",
    "        X_scaled = pd.DataFrame(self.scaler.transform(X[self.columns]), columns=self.columns)\n",
    "        X_not_sclaed = X.loc[:,~X.columns.isin(self.columns)]\n",
    "        return pd.concat([X_not_sclaed, X_scaled], axis=1)[init_col_order]\n"
   ]
  },
  {
   "cell_type": "code",
   "execution_count": 100,
   "metadata": {},
   "outputs": [
    {
     "data": {
      "text/plain": [
       "array(['Reason_1', 'Reason_2', 'Reason_3', 'Reason_4', 'Month Value',\n",
       "       'Day of the Week', 'Transportation Expense', 'Distance to Work',\n",
       "       'Age', 'Daily Work Load Average', 'Body Mass Index', 'Education',\n",
       "       'Children', 'Pet'], dtype=object)"
      ]
     },
     "execution_count": 100,
     "metadata": {},
     "output_type": "execute_result"
    }
   ],
   "source": [
    "#we must choose the columns to be scaled to see what columns we've got.\n",
    "unscaled_inputs.columns.values"
   ]
  },
  {
   "cell_type": "code",
   "execution_count": 101,
   "metadata": {},
   "outputs": [],
   "source": [
    "columns_to_sclae = ['Month Value','Day of the Week', 'Transportation Expense', 'Distance to Work',\n",
    "       'Age', 'Daily Work Load Average', 'Body Mass Index', 'Children', 'Pet']"
   ]
  },
  {
   "cell_type": "code",
   "execution_count": 102,
   "metadata": {},
   "outputs": [],
   "source": [
    "#Let's created an empty standard scalar object\n",
    "#absenteeism_scaler = StandardScaler()\n",
    "\n",
    "absenteeism_scaler =CustomScaler(columns_to_sclae)\n"
   ]
  },
  {
   "cell_type": "code",
   "execution_count": 103,
   "metadata": {},
   "outputs": [
    {
     "data": {
      "text/plain": [
       "CustomScaler(columns=['Month Value', 'Day of the Week', 'Transportation Expense', 'Distance to Work', 'Age', 'Daily Work Load Average', 'Body Mass Index', 'Children', 'Pet'],\n",
       "       copy=None, with_mean=None, with_std=None)"
      ]
     },
     "execution_count": 103,
     "metadata": {},
     "output_type": "execute_result"
    }
   ],
   "source": [
    "#fit our input data, this will calculate the mean and standard deviation of each feature from unskilled inputs\n",
    "absenteeism_scaler.fit(unscaled_inputs)"
   ]
  },
  {
   "cell_type": "markdown",
   "metadata": {},
   "source": [
    "We also standardize the dummies.This is bad practice because when we standardize we lose the whole interpret ability of a dummy if we had left them as zeros and ones we could have said for a unit change it is seven point two times more likely that a person will be excessively absent a unit change in the dummy variable universe means a change from disregarding this dummy to taking only this dummy into account so if the reason is reason one we would have said it is around set points seven times more likely that a person will be absent compared to no reason given however we standardize the reasons and now a unit change is completely on interpretable the predictive power of the model is still valid and it is a good classifier but we don't know how the different reasons compare. This is a problem since those are the most important features. This brings us to a correction of our code. Good thing we had all those checkpoints. Maybe they'll help us do that effortlessly. I'll go back to the part where we standardize the data and put all the code in comments since we won't be needing it now. I'll copy paste some code that I prepared prior to this lecture. The idea is that this is a custom scalar based on the standard scalar from SDK learn. However when we declare the scalar object there's an extra argument columns to scale so our custom scalar will not standardize all inputs but only the ones we choose. In this way we will be able to preserve the dummies untouched."
   ]
  },
  {
   "cell_type": "code",
   "execution_count": 104,
   "metadata": {},
   "outputs": [],
   "source": [
    "#Until we transform the data inputs still on non-scaled. For using this method we always transform new data\n",
    "scaled_inputs = absenteeism_scaler.transform(unscaled_inputs)"
   ]
  },
  {
   "cell_type": "code",
   "execution_count": 105,
   "metadata": {},
   "outputs": [
    {
     "data": {
      "text/html": [
       "<div>\n",
       "<style scoped>\n",
       "    .dataframe tbody tr th:only-of-type {\n",
       "        vertical-align: middle;\n",
       "    }\n",
       "\n",
       "    .dataframe tbody tr th {\n",
       "        vertical-align: top;\n",
       "    }\n",
       "\n",
       "    .dataframe thead th {\n",
       "        text-align: right;\n",
       "    }\n",
       "</style>\n",
       "<table border=\"1\" class=\"dataframe\">\n",
       "  <thead>\n",
       "    <tr style=\"text-align: right;\">\n",
       "      <th></th>\n",
       "      <th>Reason_1</th>\n",
       "      <th>Reason_2</th>\n",
       "      <th>Reason_3</th>\n",
       "      <th>Reason_4</th>\n",
       "      <th>Month Value</th>\n",
       "      <th>Day of the Week</th>\n",
       "      <th>Transportation Expense</th>\n",
       "      <th>Distance to Work</th>\n",
       "      <th>Age</th>\n",
       "      <th>Daily Work Load Average</th>\n",
       "      <th>Body Mass Index</th>\n",
       "      <th>Education</th>\n",
       "      <th>Children</th>\n",
       "      <th>Pet</th>\n",
       "    </tr>\n",
       "  </thead>\n",
       "  <tbody>\n",
       "    <tr>\n",
       "      <th>0</th>\n",
       "      <td>0</td>\n",
       "      <td>0</td>\n",
       "      <td>0</td>\n",
       "      <td>1</td>\n",
       "      <td>0.030796</td>\n",
       "      <td>-0.800950</td>\n",
       "      <td>1.005844</td>\n",
       "      <td>0.412816</td>\n",
       "      <td>-0.536062</td>\n",
       "      <td>-0.806331</td>\n",
       "      <td>0.767431</td>\n",
       "      <td>0</td>\n",
       "      <td>0.880469</td>\n",
       "      <td>0.268487</td>\n",
       "    </tr>\n",
       "    <tr>\n",
       "      <th>1</th>\n",
       "      <td>0</td>\n",
       "      <td>0</td>\n",
       "      <td>0</td>\n",
       "      <td>0</td>\n",
       "      <td>0.030796</td>\n",
       "      <td>-0.800950</td>\n",
       "      <td>-1.574681</td>\n",
       "      <td>-1.141882</td>\n",
       "      <td>2.130803</td>\n",
       "      <td>-0.806331</td>\n",
       "      <td>1.002633</td>\n",
       "      <td>0</td>\n",
       "      <td>-0.019280</td>\n",
       "      <td>-0.589690</td>\n",
       "    </tr>\n",
       "    <tr>\n",
       "      <th>2</th>\n",
       "      <td>0</td>\n",
       "      <td>0</td>\n",
       "      <td>0</td>\n",
       "      <td>1</td>\n",
       "      <td>0.030796</td>\n",
       "      <td>-0.232900</td>\n",
       "      <td>-0.654143</td>\n",
       "      <td>1.426749</td>\n",
       "      <td>0.248310</td>\n",
       "      <td>-0.806331</td>\n",
       "      <td>1.002633</td>\n",
       "      <td>0</td>\n",
       "      <td>-0.919030</td>\n",
       "      <td>-0.589690</td>\n",
       "    </tr>\n",
       "    <tr>\n",
       "      <th>3</th>\n",
       "      <td>1</td>\n",
       "      <td>0</td>\n",
       "      <td>0</td>\n",
       "      <td>0</td>\n",
       "      <td>0.030796</td>\n",
       "      <td>0.335149</td>\n",
       "      <td>0.854936</td>\n",
       "      <td>-1.682647</td>\n",
       "      <td>0.405184</td>\n",
       "      <td>-0.806331</td>\n",
       "      <td>-0.643782</td>\n",
       "      <td>0</td>\n",
       "      <td>0.880469</td>\n",
       "      <td>-0.589690</td>\n",
       "    </tr>\n",
       "    <tr>\n",
       "      <th>4</th>\n",
       "      <td>0</td>\n",
       "      <td>0</td>\n",
       "      <td>0</td>\n",
       "      <td>1</td>\n",
       "      <td>0.030796</td>\n",
       "      <td>0.335149</td>\n",
       "      <td>1.005844</td>\n",
       "      <td>0.412816</td>\n",
       "      <td>-0.536062</td>\n",
       "      <td>-0.806331</td>\n",
       "      <td>0.767431</td>\n",
       "      <td>0</td>\n",
       "      <td>0.880469</td>\n",
       "      <td>0.268487</td>\n",
       "    </tr>\n",
       "  </tbody>\n",
       "</table>\n",
       "</div>"
      ],
      "text/plain": [
       "   Reason_1  Reason_2  Reason_3  Reason_4  Month Value  Day of the Week  \\\n",
       "0         0         0         0         1     0.030796        -0.800950   \n",
       "1         0         0         0         0     0.030796        -0.800950   \n",
       "2         0         0         0         1     0.030796        -0.232900   \n",
       "3         1         0         0         0     0.030796         0.335149   \n",
       "4         0         0         0         1     0.030796         0.335149   \n",
       "\n",
       "   Transportation Expense  Distance to Work       Age  \\\n",
       "0                1.005844          0.412816 -0.536062   \n",
       "1               -1.574681         -1.141882  2.130803   \n",
       "2               -0.654143          1.426749  0.248310   \n",
       "3                0.854936         -1.682647  0.405184   \n",
       "4                1.005844          0.412816 -0.536062   \n",
       "\n",
       "   Daily Work Load Average  Body Mass Index  Education  Children       Pet  \n",
       "0                -0.806331         0.767431          0  0.880469  0.268487  \n",
       "1                -0.806331         1.002633          0 -0.019280 -0.589690  \n",
       "2                -0.806331         1.002633          0 -0.919030 -0.589690  \n",
       "3                -0.806331        -0.643782          0  0.880469 -0.589690  \n",
       "4                -0.806331         0.767431          0  0.880469  0.268487  "
      ]
     },
     "execution_count": 105,
     "metadata": {},
     "output_type": "execute_result"
    }
   ],
   "source": [
    "# you can see all our dummies have remained untouched and that was the wholo point\n",
    "scaled_inputs.head()"
   ]
  },
  {
   "cell_type": "code",
   "execution_count": 106,
   "metadata": {},
   "outputs": [
    {
     "data": {
      "text/plain": [
       "(700, 14)"
      ]
     },
     "execution_count": 106,
     "metadata": {},
     "output_type": "execute_result"
    }
   ],
   "source": [
    "scaled_inputs.shape"
   ]
  },
  {
   "cell_type": "markdown",
   "metadata": {},
   "source": [
    "### Split to the data into train & test \n",
    "We will split the dataset into train and test so we can assess the model's accuracy on data.Sklearn has a pretty neat method of splitting the data into train and test in order to use it. Split the train test split method is very powerful and has many arguments.The method to split the data the output we obtain consists of for arrays a\n",
    "training dataset with inputs then a test data set with inputs a trained data set with targets and a test data set with targets. We will call them X_train X_test y_train and y_test.\n",
    " \n",
    "We can see the shapes of these variables. This will be very indicative of what the train test split has actually achieved as you can see that 75% of the observations will help us with training and 25% will serve for testing as default.We can specify the train_size(or test_size) argument  equal to a certain value between 0 and 1 .\n",
    "\n",
    "The train test split method has a shuffle parameter shuffle is a boolean so it can be either true or false by default. Shuffling is set to true. It may be a small issue for us when we rerun our code. We get a different shuffle and this means a different split. This causes the final model to defer every time due to the shuffling.\n",
    "So the shuffle can make things difficult for us. There is a simple solution though all S.K. learn functions that include some randomness like the random shuffle here contain a random state parameter random state takes integer values. What we can do is set the random state to a number say 20. This will make the shuffle pseudo random.\n",
    "It will always shuffle observations in the same random way."
   ]
  },
  {
   "cell_type": "code",
   "execution_count": 107,
   "metadata": {},
   "outputs": [],
   "source": [
    "from sklearn.model_selection import train_test_split"
   ]
  },
  {
   "cell_type": "code",
   "execution_count": 108,
   "metadata": {},
   "outputs": [],
   "source": [
    "X_train, X_test, y_train, y_test = train_test_split(scaled_inputs, targets, test_size =0.2, random_state=20)"
   ]
  },
  {
   "cell_type": "code",
   "execution_count": 109,
   "metadata": {},
   "outputs": [
    {
     "name": "stdout",
     "output_type": "stream",
     "text": [
      "(560, 14) (560,)\n"
     ]
    }
   ],
   "source": [
    "print(X_train.shape, y_train.shape)"
   ]
  },
  {
   "cell_type": "code",
   "execution_count": 110,
   "metadata": {},
   "outputs": [
    {
     "name": "stdout",
     "output_type": "stream",
     "text": [
      "(140, 14) (140,)\n"
     ]
    }
   ],
   "source": [
    "print(X_test.shape, y_test.shape)"
   ]
  },
  {
   "cell_type": "markdown",
   "metadata": {},
   "source": [
    "## LOGISTIC REGRESSION FOR SKLEARN\n",
    "\n",
    "And now it's finally time for the modeling part as usual.Let's import the relevant modules since we are building a logistic regression."
   ]
  },
  {
   "cell_type": "code",
   "execution_count": 111,
   "metadata": {},
   "outputs": [],
   "source": [
    "from sklearn.linear_model import LogisticRegression\n",
    "from sklearn import  metrics"
   ]
  },
  {
   "cell_type": "code",
   "execution_count": 112,
   "metadata": {},
   "outputs": [
    {
     "data": {
      "text/plain": [
       "LogisticRegression(C=1.0, class_weight=None, dual=False, fit_intercept=True,\n",
       "          intercept_scaling=1, max_iter=100, multi_class='ovr', n_jobs=1,\n",
       "          penalty='l2', random_state=None, solver='liblinear', tol=0.0001,\n",
       "          verbose=0, warm_start=False)"
      ]
     },
     "execution_count": 112,
     "metadata": {},
     "output_type": "execute_result"
    }
   ],
   "source": [
    "#we must declare a new variable which will be a logistic regression object\n",
    "reg = LogisticRegression()\n",
    "\n",
    "#We must fit the regression.\n",
    "reg.fit(X_train, y_train)"
   ]
  },
  {
   "cell_type": "markdown",
   "metadata": {},
   "source": [
    "`As an output we get all the parameters of the logistic regression object we specified above obviously they are all the default ones since we didn't specify anything. Each of those parameters has a special meaning which can improve our model one way or the other.`\n",
    "\n",
    "For now let's focus on the results of this regression. It is easy to evaluate the model accuracy.\n",
    "\n",
    "```python\n",
    "sklearn.linear_model.LogisticRegression.score(inputs, targets) # HERE (X_train, y_train)\n",
    "```"
   ]
  },
  {
   "cell_type": "code",
   "execution_count": 113,
   "metadata": {},
   "outputs": [
    {
     "data": {
      "text/plain": [
       "0.7660714285714286"
      ]
     },
     "execution_count": 113,
     "metadata": {},
     "output_type": "execute_result"
    }
   ],
   "source": [
    "reg.score(X_train, y_train)"
   ]
  },
  {
   "cell_type": "markdown",
   "metadata": {},
   "source": [
    "`The result is around zero point eighty we conclude that our model has an accuracy of zero point eight or 80 percent. In other words based on the data we used our model learned to classify 80 percent of the observations`"
   ]
  },
  {
   "cell_type": "markdown",
   "metadata": {},
   "source": [
    "#### Manually check the accuracy\n",
    "Accuracy means that 80 percent of the model outputs match the targets so if we want to find the accuracy of a model manually we should find the outputs and compare them with the targets let's do that in order to find the model outputs. We will use a simple as K learned method. It is called predict.This method will find the predicted outputs of the regression the model itself is contained in the variable reg and we are choosing to predict the outputs associated with the training inputs and contained in X train. "
   ]
  },
  {
   "cell_type": "code",
   "execution_count": 114,
   "metadata": {},
   "outputs": [
    {
     "data": {
      "text/plain": [
       "array([0, 1, 0, 1, 1, 0, 0, 1, 0, 1, 1, 1, 0, 1, 0, 0, 0, 0, 0, 1, 1, 0,\n",
       "       0, 0, 0, 0, 0, 1, 1, 0, 0, 1, 0, 1, 0, 0, 1, 0, 0, 0, 1, 1, 1, 1,\n",
       "       0, 0, 0, 0, 1, 1, 0, 1, 0, 0, 0, 1, 1, 0, 0, 0, 0, 0, 1, 0, 0, 0,\n",
       "       0, 1, 0, 0, 0, 1, 1, 0, 0, 0, 1, 0, 0, 1, 1, 1, 0, 0, 0, 1, 1, 0,\n",
       "       0, 1, 0, 0, 1, 0, 0, 0, 0, 1, 0, 1, 1, 1, 1, 0, 1, 1, 0, 0, 1, 0,\n",
       "       0, 1, 0, 1, 1, 0, 0, 0, 1, 1, 1, 1, 1, 0, 0, 1, 0, 1, 0, 0, 1, 0,\n",
       "       0, 0, 0, 0, 1, 0, 0, 0, 0, 0, 1, 1, 1, 0, 0, 1, 0, 1, 0, 0, 1, 0,\n",
       "       1, 1, 0, 1, 0, 1, 1, 0, 1, 0, 0, 1, 1, 0, 1, 1, 0, 0, 0, 0, 1, 0,\n",
       "       0, 0, 0, 0, 1, 0, 0, 1, 1, 0, 0, 1, 0, 0, 1, 1, 1, 0, 0, 0, 0, 1,\n",
       "       1, 0, 0, 0, 1, 1, 1, 0, 1, 0, 0, 0, 1, 1, 1, 0, 0, 0, 0, 0, 0, 1,\n",
       "       1, 0, 0, 0, 1, 0, 0, 1, 1, 0, 0, 1, 1, 0, 0, 1, 1, 0, 0, 0, 0, 1,\n",
       "       0, 0, 1, 0, 1, 1, 1, 0, 1, 0, 1, 0, 1, 0, 1, 1, 1, 1, 1, 1, 1, 1,\n",
       "       0, 0, 0, 0, 0, 0, 1, 1, 0, 0, 1, 0, 1, 1, 0, 1, 0, 0, 1, 0, 1, 0,\n",
       "       0, 0, 0, 0, 0, 0, 0, 1, 1, 1, 1, 1, 1, 1, 0, 0, 0, 0, 0, 1, 0, 0,\n",
       "       1, 0, 0, 0, 1, 0, 1, 0, 1, 0, 0, 0, 0, 0, 1, 1, 1, 0, 0, 0, 1, 1,\n",
       "       1, 0, 1, 0, 0, 1, 0, 0, 0, 0, 0, 0, 0, 0, 0, 1, 1, 1, 0, 0, 0, 1,\n",
       "       0, 0, 1, 0, 1, 1, 0, 0, 1, 0, 1, 1, 1, 0, 0, 0, 0, 1, 1, 1, 0, 0,\n",
       "       1, 1, 0, 1, 0, 0, 1, 1, 0, 1, 0, 1, 1, 1, 0, 1, 0, 1, 0, 0, 0, 0,\n",
       "       0, 0, 0, 0, 0, 1, 1, 0, 1, 1, 0, 1, 0, 0, 0, 1, 1, 0, 0, 1, 1, 0,\n",
       "       0, 0, 0, 1, 0, 0, 1, 0, 0, 1, 0, 0, 1, 0, 1, 1, 1, 0, 0, 1, 1, 0,\n",
       "       0, 0, 0, 1, 0, 0, 0, 0, 1, 1, 1, 1, 1, 0, 1, 1, 0, 0, 0, 0, 0, 0,\n",
       "       1, 1, 0, 0, 0, 0, 1, 0, 0, 0, 1, 0, 1, 1, 0, 0, 1, 0, 0, 1, 0, 0,\n",
       "       0, 0, 0, 0, 0, 1, 0, 0, 1, 0, 0, 0, 0, 1, 1, 0, 1, 0, 1, 0, 0, 1,\n",
       "       0, 1, 1, 0, 1, 0, 0, 0, 1, 1, 1, 1, 0, 0, 1, 1, 0, 0, 1, 0, 1, 1,\n",
       "       0, 1, 1, 0, 1, 1, 1, 0, 0, 0, 1, 1, 1, 0, 1, 1, 0, 1, 1, 0, 0, 0,\n",
       "       0, 1, 0, 1, 1, 1, 0, 0, 0, 0])"
      ]
     },
     "execution_count": 114,
     "metadata": {},
     "output_type": "execute_result"
    }
   ],
   "source": [
    "model_outputs = reg.predict(X_train)\n",
    "model_outputs"
   ]
  },
  {
   "cell_type": "markdown",
   "metadata": {},
   "source": [
    "We can see an array with zeros and ones. These are the predictions of our model. If we look at the difrences between using (model_outputs == targets) we can see that If there is a match the result is true. Otherwise it is false. Now we can clearly see which elements have been guessed correctly and which haven't but how many are there. if we  sum this array using np.sum. The result will be the total number of true entries and if we divide the number of matches by the total number of elements. We will get the accuracy.\n",
    "let's divide the number of true entries by that"
   ]
  },
  {
   "cell_type": "code",
   "execution_count": 115,
   "metadata": {},
   "outputs": [
    {
     "data": {
      "text/plain": [
       "0.7660714285714286"
      ]
     },
     "execution_count": 115,
     "metadata": {},
     "output_type": "execute_result"
    }
   ],
   "source": [
    "np.sum(model_outputs == y_train)/ model_outputs.shape[0]"
   ]
  },
  {
   "cell_type": "markdown",
   "metadata": {},
   "source": [
    "`What we get the exact same result as using the SKlearn methods score. However this time we have a much better idea of what that result means.`"
   ]
  },
  {
   "attachments": {
    "Screen%20Shot%202019-01-27%20at%209.33.44%20AM.png": {
     "image/png": "[encoded data removed]"
    }
   },
   "cell_type": "markdown",
   "metadata": {},
   "source": [
    "### Intercept & Coefficient\n",
    "\n",
    "Regression analysis, no matter if linear or nonlinear it's about determining certain coefficients or weights which we apply to the inputs to obtain a final result. So to use this logistic regression model outside of Python we must get our hands on the coefficients and the intercept.\n",
    "![Screen%20Shot%202019-01-27%20at%209.33.44%20AM.png](attachment:Screen%20Shot%202019-01-27%20at%209.33.44%20AM.png)\n",
    "\n"
   ]
  },
  {
   "cell_type": "code",
   "execution_count": 116,
   "metadata": {},
   "outputs": [
    {
     "data": {
      "text/plain": [
       "array([-1.43101781])"
      ]
     },
     "execution_count": 116,
     "metadata": {},
     "output_type": "execute_result"
    }
   ],
   "source": [
    "reg.intercept_"
   ]
  },
  {
   "cell_type": "code",
   "execution_count": 117,
   "metadata": {},
   "outputs": [
    {
     "data": {
      "text/plain": [
       "array([[ 2.61893423,  0.83461948,  2.95258195,  0.64428488,  0.01123706,\n",
       "        -0.0748093 ,  0.62180009, -0.02934223, -0.17585164, -0.02583315,\n",
       "         0.27705024, -0.29385863,  0.3549178 , -0.27486307]])"
      ]
     },
     "execution_count": 117,
     "metadata": {},
     "output_type": "execute_result"
    }
   ],
   "source": [
    "reg.coef_"
   ]
  },
  {
   "cell_type": "markdown",
   "metadata": {},
   "source": [
    "We want to know what variable those coefficients refer to we can get the coefficients from the names of our inputs column values."
   ]
  },
  {
   "cell_type": "code",
   "execution_count": 118,
   "metadata": {},
   "outputs": [
    {
     "data": {
      "text/plain": [
       "array(['Reason_1', 'Reason_2', 'Reason_3', 'Reason_4', 'Month Value',\n",
       "       'Day of the Week', 'Transportation Expense', 'Distance to Work',\n",
       "       'Age', 'Daily Work Load Average', 'Body Mass Index', 'Education',\n",
       "       'Children', 'Pet'], dtype=object)"
      ]
     },
     "execution_count": 118,
     "metadata": {},
     "output_type": "execute_result"
    }
   ],
   "source": [
    "features_names = unscaled_inputs.columns.values\n",
    "features_names"
   ]
  },
  {
   "cell_type": "markdown",
   "metadata": {},
   "source": [
    "I want to create a data frame that will contain the intercept the feature names and the corresponding coefficients we can call this data frame summary table"
   ]
  },
  {
   "cell_type": "code",
   "execution_count": 119,
   "metadata": {},
   "outputs": [],
   "source": [
    "Summary_of_Table = pd.DataFrame(columns=['Feature Name'], data=features_names)\n",
    "Summary_of_Table['Coefficient'] = np.transpose(reg.coef_)"
   ]
  },
  {
   "cell_type": "code",
   "execution_count": 120,
   "metadata": {},
   "outputs": [
    {
     "data": {
      "text/html": [
       "<div>\n",
       "<style scoped>\n",
       "    .dataframe tbody tr th:only-of-type {\n",
       "        vertical-align: middle;\n",
       "    }\n",
       "\n",
       "    .dataframe tbody tr th {\n",
       "        vertical-align: top;\n",
       "    }\n",
       "\n",
       "    .dataframe thead th {\n",
       "        text-align: right;\n",
       "    }\n",
       "</style>\n",
       "<table border=\"1\" class=\"dataframe\">\n",
       "  <thead>\n",
       "    <tr style=\"text-align: right;\">\n",
       "      <th></th>\n",
       "      <th>Feature Name</th>\n",
       "      <th>Coefficient</th>\n",
       "    </tr>\n",
       "  </thead>\n",
       "  <tbody>\n",
       "    <tr>\n",
       "      <th>0</th>\n",
       "      <td>Reason_1</td>\n",
       "      <td>2.618934</td>\n",
       "    </tr>\n",
       "    <tr>\n",
       "      <th>1</th>\n",
       "      <td>Reason_2</td>\n",
       "      <td>0.834619</td>\n",
       "    </tr>\n",
       "    <tr>\n",
       "      <th>2</th>\n",
       "      <td>Reason_3</td>\n",
       "      <td>2.952582</td>\n",
       "    </tr>\n",
       "    <tr>\n",
       "      <th>3</th>\n",
       "      <td>Reason_4</td>\n",
       "      <td>0.644285</td>\n",
       "    </tr>\n",
       "    <tr>\n",
       "      <th>4</th>\n",
       "      <td>Month Value</td>\n",
       "      <td>0.011237</td>\n",
       "    </tr>\n",
       "    <tr>\n",
       "      <th>5</th>\n",
       "      <td>Day of the Week</td>\n",
       "      <td>-0.074809</td>\n",
       "    </tr>\n",
       "    <tr>\n",
       "      <th>6</th>\n",
       "      <td>Transportation Expense</td>\n",
       "      <td>0.621800</td>\n",
       "    </tr>\n",
       "    <tr>\n",
       "      <th>7</th>\n",
       "      <td>Distance to Work</td>\n",
       "      <td>-0.029342</td>\n",
       "    </tr>\n",
       "    <tr>\n",
       "      <th>8</th>\n",
       "      <td>Age</td>\n",
       "      <td>-0.175852</td>\n",
       "    </tr>\n",
       "    <tr>\n",
       "      <th>9</th>\n",
       "      <td>Daily Work Load Average</td>\n",
       "      <td>-0.025833</td>\n",
       "    </tr>\n",
       "    <tr>\n",
       "      <th>10</th>\n",
       "      <td>Body Mass Index</td>\n",
       "      <td>0.277050</td>\n",
       "    </tr>\n",
       "    <tr>\n",
       "      <th>11</th>\n",
       "      <td>Education</td>\n",
       "      <td>-0.293859</td>\n",
       "    </tr>\n",
       "    <tr>\n",
       "      <th>12</th>\n",
       "      <td>Children</td>\n",
       "      <td>0.354918</td>\n",
       "    </tr>\n",
       "    <tr>\n",
       "      <th>13</th>\n",
       "      <td>Pet</td>\n",
       "      <td>-0.274863</td>\n",
       "    </tr>\n",
       "  </tbody>\n",
       "</table>\n",
       "</div>"
      ],
      "text/plain": [
       "               Feature Name  Coefficient\n",
       "0                  Reason_1     2.618934\n",
       "1                  Reason_2     0.834619\n",
       "2                  Reason_3     2.952582\n",
       "3                  Reason_4     0.644285\n",
       "4               Month Value     0.011237\n",
       "5           Day of the Week    -0.074809\n",
       "6    Transportation Expense     0.621800\n",
       "7          Distance to Work    -0.029342\n",
       "8                       Age    -0.175852\n",
       "9   Daily Work Load Average    -0.025833\n",
       "10          Body Mass Index     0.277050\n",
       "11                Education    -0.293859\n",
       "12                 Children     0.354918\n",
       "13                      Pet    -0.274863"
      ]
     },
     "execution_count": 120,
     "metadata": {},
     "output_type": "execute_result"
    }
   ],
   "source": [
    "Summary_of_Table"
   ]
  },
  {
   "cell_type": "markdown",
   "metadata": {},
   "source": [
    "To add the intercept to the beginning of table we will follow the method showed below."
   ]
  },
  {
   "cell_type": "code",
   "execution_count": 121,
   "metadata": {},
   "outputs": [],
   "source": [
    "Summary_of_Table.index = Summary_of_Table.index +1\n",
    "Summary_of_Table.loc[0] = ['intercept', reg.intercept_[0]]\n",
    "Summary_of_Table =Summary_of_Table.sort_index()"
   ]
  },
  {
   "cell_type": "code",
   "execution_count": 122,
   "metadata": {},
   "outputs": [
    {
     "data": {
      "text/html": [
       "<div>\n",
       "<style scoped>\n",
       "    .dataframe tbody tr th:only-of-type {\n",
       "        vertical-align: middle;\n",
       "    }\n",
       "\n",
       "    .dataframe tbody tr th {\n",
       "        vertical-align: top;\n",
       "    }\n",
       "\n",
       "    .dataframe thead th {\n",
       "        text-align: right;\n",
       "    }\n",
       "</style>\n",
       "<table border=\"1\" class=\"dataframe\">\n",
       "  <thead>\n",
       "    <tr style=\"text-align: right;\">\n",
       "      <th></th>\n",
       "      <th>Feature Name</th>\n",
       "      <th>Coefficient</th>\n",
       "    </tr>\n",
       "  </thead>\n",
       "  <tbody>\n",
       "    <tr>\n",
       "      <th>0</th>\n",
       "      <td>intercept</td>\n",
       "      <td>-1.431018</td>\n",
       "    </tr>\n",
       "    <tr>\n",
       "      <th>1</th>\n",
       "      <td>Reason_1</td>\n",
       "      <td>2.618934</td>\n",
       "    </tr>\n",
       "    <tr>\n",
       "      <th>2</th>\n",
       "      <td>Reason_2</td>\n",
       "      <td>0.834619</td>\n",
       "    </tr>\n",
       "    <tr>\n",
       "      <th>3</th>\n",
       "      <td>Reason_3</td>\n",
       "      <td>2.952582</td>\n",
       "    </tr>\n",
       "    <tr>\n",
       "      <th>4</th>\n",
       "      <td>Reason_4</td>\n",
       "      <td>0.644285</td>\n",
       "    </tr>\n",
       "    <tr>\n",
       "      <th>5</th>\n",
       "      <td>Month Value</td>\n",
       "      <td>0.011237</td>\n",
       "    </tr>\n",
       "    <tr>\n",
       "      <th>6</th>\n",
       "      <td>Day of the Week</td>\n",
       "      <td>-0.074809</td>\n",
       "    </tr>\n",
       "    <tr>\n",
       "      <th>7</th>\n",
       "      <td>Transportation Expense</td>\n",
       "      <td>0.621800</td>\n",
       "    </tr>\n",
       "    <tr>\n",
       "      <th>8</th>\n",
       "      <td>Distance to Work</td>\n",
       "      <td>-0.029342</td>\n",
       "    </tr>\n",
       "    <tr>\n",
       "      <th>9</th>\n",
       "      <td>Age</td>\n",
       "      <td>-0.175852</td>\n",
       "    </tr>\n",
       "    <tr>\n",
       "      <th>10</th>\n",
       "      <td>Daily Work Load Average</td>\n",
       "      <td>-0.025833</td>\n",
       "    </tr>\n",
       "    <tr>\n",
       "      <th>11</th>\n",
       "      <td>Body Mass Index</td>\n",
       "      <td>0.277050</td>\n",
       "    </tr>\n",
       "    <tr>\n",
       "      <th>12</th>\n",
       "      <td>Education</td>\n",
       "      <td>-0.293859</td>\n",
       "    </tr>\n",
       "    <tr>\n",
       "      <th>13</th>\n",
       "      <td>Children</td>\n",
       "      <td>0.354918</td>\n",
       "    </tr>\n",
       "    <tr>\n",
       "      <th>14</th>\n",
       "      <td>Pet</td>\n",
       "      <td>-0.274863</td>\n",
       "    </tr>\n",
       "  </tbody>\n",
       "</table>\n",
       "</div>"
      ],
      "text/plain": [
       "               Feature Name  Coefficient\n",
       "0                 intercept    -1.431018\n",
       "1                  Reason_1     2.618934\n",
       "2                  Reason_2     0.834619\n",
       "3                  Reason_3     2.952582\n",
       "4                  Reason_4     0.644285\n",
       "5               Month Value     0.011237\n",
       "6           Day of the Week    -0.074809\n",
       "7    Transportation Expense     0.621800\n",
       "8          Distance to Work    -0.029342\n",
       "9                       Age    -0.175852\n",
       "10  Daily Work Load Average    -0.025833\n",
       "11          Body Mass Index     0.277050\n",
       "12                Education    -0.293859\n",
       "13                 Children     0.354918\n",
       "14                      Pet    -0.274863"
      ]
     },
     "execution_count": 122,
     "metadata": {},
     "output_type": "execute_result"
    }
   ],
   "source": [
    "Summary_of_Table"
   ]
  },
  {
   "cell_type": "markdown",
   "metadata": {},
   "source": [
    "**interprete the coefficients** Coefficients are also called weights while the intercept bias. These notions are useful because the weights show how we weigh a certain input. The closer they are to zero the smaller the weight and alternatively the further away from zero no matter if positive or negative the bigger the weight of this feature. Note that this is something which is true for our model but it's not universally true. It holds only four models where all variables are of the same scale such as the one we just built there are coefficient values and standardised coefficient values. These standardized coefficients are basically the coefficient values of a regression where all variables have been standardized other packages and software include the standardized coefficients because they allow for a simple and easy to understand comparison between the variables since. In such cases the features are standardized they all have a variance of one or the same scale. And whenever the scale is standard or the same that is we can simply say whichever way it is bigger its corresponding feature is more important for machine learning purposes and prediction in general we usually standardize the variables like we did now.  Another notion we must emphasize is that whenever we are dealing with a `logistic regression`  the coefficients we are predicting are the so-called `log odds`. This is a consequence of the choice of model logistic regression by default are nothing but a linear function. Predicting log odds these log odds are later transformed into zeros and ones let's make this clearer. Here's the logistic regression equation...\n",
    "\n",
    "```python\n",
    "log(odds) = intercept + b1x1 +b2x2+ ..... b13x13 + b14x14\n",
    "\n",
    "-0.21 + 2.07*Reason_1 + 0.33*Reason_2 + 1.31*Reason_4 + 0.02*Month Value + (-0.09)*Day of the Week + 0.72*Transportation Expense + (-0.06)*Distance to Work + (-0.21)*Age +  (-0.03)*Daily Work Load Average+ \n",
    "0.33*Body Mass Index + (-0.16)*Education + 0.38*Children + (-0.32)*Pet\n",
    "```\n",
    "\n",
    "So to make them more interpretable let's find the exponential of these coefficients. I'll create a new series in our data frame called Odds Ratio "
   ]
  },
  {
   "cell_type": "code",
   "execution_count": 123,
   "metadata": {},
   "outputs": [],
   "source": [
    "Summary_of_Table['Odds Ratio'] = np.exp(Summary_of_Table.Coefficient)"
   ]
  },
  {
   "cell_type": "code",
   "execution_count": 124,
   "metadata": {},
   "outputs": [
    {
     "data": {
      "text/html": [
       "<div>\n",
       "<style scoped>\n",
       "    .dataframe tbody tr th:only-of-type {\n",
       "        vertical-align: middle;\n",
       "    }\n",
       "\n",
       "    .dataframe tbody tr th {\n",
       "        vertical-align: top;\n",
       "    }\n",
       "\n",
       "    .dataframe thead th {\n",
       "        text-align: right;\n",
       "    }\n",
       "</style>\n",
       "<table border=\"1\" class=\"dataframe\">\n",
       "  <thead>\n",
       "    <tr style=\"text-align: right;\">\n",
       "      <th></th>\n",
       "      <th>Feature Name</th>\n",
       "      <th>Coefficient</th>\n",
       "      <th>Odds Ratio</th>\n",
       "    </tr>\n",
       "  </thead>\n",
       "  <tbody>\n",
       "    <tr>\n",
       "      <th>0</th>\n",
       "      <td>intercept</td>\n",
       "      <td>-1.431018</td>\n",
       "      <td>0.239065</td>\n",
       "    </tr>\n",
       "    <tr>\n",
       "      <th>1</th>\n",
       "      <td>Reason_1</td>\n",
       "      <td>2.618934</td>\n",
       "      <td>13.721092</td>\n",
       "    </tr>\n",
       "    <tr>\n",
       "      <th>2</th>\n",
       "      <td>Reason_2</td>\n",
       "      <td>0.834619</td>\n",
       "      <td>2.303937</td>\n",
       "    </tr>\n",
       "    <tr>\n",
       "      <th>3</th>\n",
       "      <td>Reason_3</td>\n",
       "      <td>2.952582</td>\n",
       "      <td>19.155348</td>\n",
       "    </tr>\n",
       "    <tr>\n",
       "      <th>4</th>\n",
       "      <td>Reason_4</td>\n",
       "      <td>0.644285</td>\n",
       "      <td>1.904625</td>\n",
       "    </tr>\n",
       "    <tr>\n",
       "      <th>5</th>\n",
       "      <td>Month Value</td>\n",
       "      <td>0.011237</td>\n",
       "      <td>1.011300</td>\n",
       "    </tr>\n",
       "    <tr>\n",
       "      <th>6</th>\n",
       "      <td>Day of the Week</td>\n",
       "      <td>-0.074809</td>\n",
       "      <td>0.927920</td>\n",
       "    </tr>\n",
       "    <tr>\n",
       "      <th>7</th>\n",
       "      <td>Transportation Expense</td>\n",
       "      <td>0.621800</td>\n",
       "      <td>1.862277</td>\n",
       "    </tr>\n",
       "    <tr>\n",
       "      <th>8</th>\n",
       "      <td>Distance to Work</td>\n",
       "      <td>-0.029342</td>\n",
       "      <td>0.971084</td>\n",
       "    </tr>\n",
       "    <tr>\n",
       "      <th>9</th>\n",
       "      <td>Age</td>\n",
       "      <td>-0.175852</td>\n",
       "      <td>0.838742</td>\n",
       "    </tr>\n",
       "    <tr>\n",
       "      <th>10</th>\n",
       "      <td>Daily Work Load Average</td>\n",
       "      <td>-0.025833</td>\n",
       "      <td>0.974498</td>\n",
       "    </tr>\n",
       "    <tr>\n",
       "      <th>11</th>\n",
       "      <td>Body Mass Index</td>\n",
       "      <td>0.277050</td>\n",
       "      <td>1.319233</td>\n",
       "    </tr>\n",
       "    <tr>\n",
       "      <th>12</th>\n",
       "      <td>Education</td>\n",
       "      <td>-0.293859</td>\n",
       "      <td>0.745382</td>\n",
       "    </tr>\n",
       "    <tr>\n",
       "      <th>13</th>\n",
       "      <td>Children</td>\n",
       "      <td>0.354918</td>\n",
       "      <td>1.426063</td>\n",
       "    </tr>\n",
       "    <tr>\n",
       "      <th>14</th>\n",
       "      <td>Pet</td>\n",
       "      <td>-0.274863</td>\n",
       "      <td>0.759676</td>\n",
       "    </tr>\n",
       "  </tbody>\n",
       "</table>\n",
       "</div>"
      ],
      "text/plain": [
       "               Feature Name  Coefficient  Odds Ratio\n",
       "0                 intercept    -1.431018    0.239065\n",
       "1                  Reason_1     2.618934   13.721092\n",
       "2                  Reason_2     0.834619    2.303937\n",
       "3                  Reason_3     2.952582   19.155348\n",
       "4                  Reason_4     0.644285    1.904625\n",
       "5               Month Value     0.011237    1.011300\n",
       "6           Day of the Week    -0.074809    0.927920\n",
       "7    Transportation Expense     0.621800    1.862277\n",
       "8          Distance to Work    -0.029342    0.971084\n",
       "9                       Age    -0.175852    0.838742\n",
       "10  Daily Work Load Average    -0.025833    0.974498\n",
       "11          Body Mass Index     0.277050    1.319233\n",
       "12                Education    -0.293859    0.745382\n",
       "13                 Children     0.354918    1.426063\n",
       "14                      Pet    -0.274863    0.759676"
      ]
     },
     "execution_count": 124,
     "metadata": {},
     "output_type": "execute_result"
    }
   ],
   "source": [
    "Summary_of_Table"
   ]
  },
  {
   "cell_type": "markdown",
   "metadata": {},
   "source": [
    "I'll sort the data frame using the sort values method. Sort values requires us to choose the appropriate\n",
    "column by which we want to sort the whole data frame logically for us."
   ]
  },
  {
   "cell_type": "code",
   "execution_count": 125,
   "metadata": {},
   "outputs": [
    {
     "data": {
      "text/html": [
       "<div>\n",
       "<style scoped>\n",
       "    .dataframe tbody tr th:only-of-type {\n",
       "        vertical-align: middle;\n",
       "    }\n",
       "\n",
       "    .dataframe tbody tr th {\n",
       "        vertical-align: top;\n",
       "    }\n",
       "\n",
       "    .dataframe thead th {\n",
       "        text-align: right;\n",
       "    }\n",
       "</style>\n",
       "<table border=\"1\" class=\"dataframe\">\n",
       "  <thead>\n",
       "    <tr style=\"text-align: right;\">\n",
       "      <th></th>\n",
       "      <th>Feature Name</th>\n",
       "      <th>Coefficient</th>\n",
       "      <th>Odds Ratio</th>\n",
       "    </tr>\n",
       "  </thead>\n",
       "  <tbody>\n",
       "    <tr>\n",
       "      <th>3</th>\n",
       "      <td>Reason_3</td>\n",
       "      <td>2.952582</td>\n",
       "      <td>19.155348</td>\n",
       "    </tr>\n",
       "    <tr>\n",
       "      <th>1</th>\n",
       "      <td>Reason_1</td>\n",
       "      <td>2.618934</td>\n",
       "      <td>13.721092</td>\n",
       "    </tr>\n",
       "    <tr>\n",
       "      <th>2</th>\n",
       "      <td>Reason_2</td>\n",
       "      <td>0.834619</td>\n",
       "      <td>2.303937</td>\n",
       "    </tr>\n",
       "    <tr>\n",
       "      <th>4</th>\n",
       "      <td>Reason_4</td>\n",
       "      <td>0.644285</td>\n",
       "      <td>1.904625</td>\n",
       "    </tr>\n",
       "    <tr>\n",
       "      <th>7</th>\n",
       "      <td>Transportation Expense</td>\n",
       "      <td>0.621800</td>\n",
       "      <td>1.862277</td>\n",
       "    </tr>\n",
       "    <tr>\n",
       "      <th>13</th>\n",
       "      <td>Children</td>\n",
       "      <td>0.354918</td>\n",
       "      <td>1.426063</td>\n",
       "    </tr>\n",
       "    <tr>\n",
       "      <th>11</th>\n",
       "      <td>Body Mass Index</td>\n",
       "      <td>0.277050</td>\n",
       "      <td>1.319233</td>\n",
       "    </tr>\n",
       "    <tr>\n",
       "      <th>5</th>\n",
       "      <td>Month Value</td>\n",
       "      <td>0.011237</td>\n",
       "      <td>1.011300</td>\n",
       "    </tr>\n",
       "    <tr>\n",
       "      <th>10</th>\n",
       "      <td>Daily Work Load Average</td>\n",
       "      <td>-0.025833</td>\n",
       "      <td>0.974498</td>\n",
       "    </tr>\n",
       "    <tr>\n",
       "      <th>8</th>\n",
       "      <td>Distance to Work</td>\n",
       "      <td>-0.029342</td>\n",
       "      <td>0.971084</td>\n",
       "    </tr>\n",
       "    <tr>\n",
       "      <th>6</th>\n",
       "      <td>Day of the Week</td>\n",
       "      <td>-0.074809</td>\n",
       "      <td>0.927920</td>\n",
       "    </tr>\n",
       "    <tr>\n",
       "      <th>9</th>\n",
       "      <td>Age</td>\n",
       "      <td>-0.175852</td>\n",
       "      <td>0.838742</td>\n",
       "    </tr>\n",
       "    <tr>\n",
       "      <th>14</th>\n",
       "      <td>Pet</td>\n",
       "      <td>-0.274863</td>\n",
       "      <td>0.759676</td>\n",
       "    </tr>\n",
       "    <tr>\n",
       "      <th>12</th>\n",
       "      <td>Education</td>\n",
       "      <td>-0.293859</td>\n",
       "      <td>0.745382</td>\n",
       "    </tr>\n",
       "    <tr>\n",
       "      <th>0</th>\n",
       "      <td>intercept</td>\n",
       "      <td>-1.431018</td>\n",
       "      <td>0.239065</td>\n",
       "    </tr>\n",
       "  </tbody>\n",
       "</table>\n",
       "</div>"
      ],
      "text/plain": [
       "               Feature Name  Coefficient  Odds Ratio\n",
       "3                  Reason_3     2.952582   19.155348\n",
       "1                  Reason_1     2.618934   13.721092\n",
       "2                  Reason_2     0.834619    2.303937\n",
       "4                  Reason_4     0.644285    1.904625\n",
       "7    Transportation Expense     0.621800    1.862277\n",
       "13                 Children     0.354918    1.426063\n",
       "11          Body Mass Index     0.277050    1.319233\n",
       "5               Month Value     0.011237    1.011300\n",
       "10  Daily Work Load Average    -0.025833    0.974498\n",
       "8          Distance to Work    -0.029342    0.971084\n",
       "6           Day of the Week    -0.074809    0.927920\n",
       "9                       Age    -0.175852    0.838742\n",
       "14                      Pet    -0.274863    0.759676\n",
       "12                Education    -0.293859    0.745382\n",
       "0                 intercept    -1.431018    0.239065"
      ]
     },
     "execution_count": 125,
     "metadata": {},
     "output_type": "execute_result"
    }
   ],
   "source": [
    "Summary_of_Table.sort_values('Odds Ratio', ascending=False)"
   ]
  },
  {
   "cell_type": "markdown",
   "metadata": {},
   "source": [
    "So how can we interpret them. If a coefficient is around zero or its odds ratio is close to one. This means that the corresponding feature is not particularly important the reasoning in terms of weights is that a weight of 0 implies that no matter the feature value we will multiply it by 0 and the whole result will be 0 the meaning in terms of odds ratios as the following for one unit change in the standardised feature. The odds increase by a multiple equal to the odds ratio so if the odds ratio was 1 then the odds don't change at all. We have weights like that. The daily work load average is almost 1. So this feature is almost useless for our model and with or without it the result would likely be the same. We have other variables that can fall into this category. Day of the week and distance to work. given all features these seem to be the ones that make no difference. We will keep that features for now but consider dropping them later on."
   ]
  },
  {
   "cell_type": "markdown",
   "metadata": {},
   "source": [
    "### Interpreting the important features\n",
    "\n",
    "We will focus on the most important features I'll just remind you that the further away from zero a coefficient is the bigger its importance. So by looking at the coefficients table we will notice that the most strongly pronounced features seem to be the four reasons for absence. The transportation expense and whether a person has children pets and education. Note that pet and education are at the bottom of the table but their weights are still far away from zero. They are indeed important we can carry on in this way. Finishing with the daily work load average distance to work and day of the week would seem to have the smallest impact. The weight is almost zero. So regardless of the particular values they will barely affect our model. What about the reasons we said that the base model includes no reason. But what is the impact of the various reasons I'll quickly recap what the five reason variables stand for reason zero or no reason which is the baseline model. Reason 1 which comprises of various diseases. Reason to relating to pregnancy and giving birth. Reason 3 regarding poisoning and peculiar reasons not categorized elsewhere and reason for which relates to light diseases in the light of this clarification. We can easily understand our coefficients the most crucial reason for excess of absence is poisoning not much of a surprise there.  The weight means the odds of someone being excessively absent after being poisoned are 20 times higher than when no reason was reported OK. Clear another very important reason seems to be no one or various diseases. I'd call this the normal absenteeism case you got sick you skipped work no drama. A person who was reported this is 14 times more likely to be excessively absent than a person who didn't specify a reason then we have pregnancy and giving birth.  All right after that we've got transportation expense. This is the most important non dummy feature in the model. But here's the problem. It is one of our standardized variables.We don't have direct interpret ability of it. Its odds ratio implies that for one standardized unit or for one standard deviation increase in transportation expense it is close to twice as likely to be excessively absent. This is the main drawback of standardization. Standardized models almost always yield higher accuracy because the optimization algorithms work better in this way. `Machine learning engineers` prefer models with higher accuracy so they normally go for standardization `economy patricians and statisticians` however prefer less accurate but more interpretable models because they care about the underlying reasons behind different phenomena.\n",
    "`Data scientists` may be in either position sometimes they need higher accuracy.Other times they must find the main drivers of a problem so it makes sense to create two different models one with standardized features and one without them and then draw insights from both.\n"
   ]
  },
  {
   "cell_type": "markdown",
   "metadata": {},
   "source": [
    "### Testing the Model\n",
    "It is time to use the test data. This will also be the end of the machine learning part.That's because testing is done only once and at the very end of the machine learning process."
   ]
  },
  {
   "cell_type": "code",
   "execution_count": 126,
   "metadata": {},
   "outputs": [
    {
     "data": {
      "text/plain": [
       "0.75"
      ]
     },
     "execution_count": 126,
     "metadata": {},
     "output_type": "execute_result"
    }
   ],
   "source": [
    "reg.score(X_test, y_test)"
   ]
  },
  {
   "cell_type": "markdown",
   "metadata": {},
   "source": [
    "Instead of zero and one we can get the probability of an output being zero or 1.There is an SDK learn method called `predict probe`."
   ]
  },
  {
   "cell_type": "code",
   "execution_count": 136,
   "metadata": {},
   "outputs": [
    {
     "data": {
      "text/plain": [
       "(140, 2)"
      ]
     },
     "execution_count": 136,
     "metadata": {},
     "output_type": "execute_result"
    }
   ],
   "source": [
    "#instead of 0 and 1 we can get the Probability of an output beging 0 or 1\n",
    "predicted_proba =reg.predict_proba(X_test)\n",
    "predicted_proba.shape\n"
   ]
  },
  {
   "cell_type": "markdown",
   "metadata": {},
   "source": [
    "The first column shows the probability our model assigned to the observation being 0 and the second. The probability of the model assigned to the observation being 1."
   ]
  },
  {
   "cell_type": "code",
   "execution_count": 137,
   "metadata": {},
   "outputs": [
    {
     "data": {
      "text/plain": [
       "array([0.24317661, 0.37463683, 0.54177647, 0.22900075, 0.92457372,\n",
       "       0.71721095, 0.70198458, 0.88951845, 0.24828394, 0.24476587,\n",
       "       0.50124778, 0.8166621 , 0.93109413, 0.31720501, 0.72480078,\n",
       "       0.49830375, 0.48334522, 0.44729395, 0.61858827, 0.94389387,\n",
       "       0.26739396, 0.23658997, 0.56099766, 0.54331094, 0.78128297,\n",
       "       0.2472754 , 0.50532304, 0.12529269, 0.76947642, 0.24435098,\n",
       "       0.40027784, 0.72282213, 0.68309208, 0.50183789, 0.23658997,\n",
       "       0.57490362, 0.26244825, 0.76322809, 0.45070188, 0.58941464,\n",
       "       0.2545466 , 0.45376473, 0.2442691 , 0.43454262, 0.80228922,\n",
       "       0.64667768, 0.74190084, 0.25131584, 0.26873282, 0.21760326,\n",
       "       0.5187978 , 0.33929554, 0.69210482, 0.26325808, 0.84108495,\n",
       "       0.41846317, 0.91617148, 0.29643862, 0.35033133, 0.34573211,\n",
       "       0.73164572, 0.66843639, 0.29005712, 0.79176288, 0.24924481,\n",
       "       0.24578167, 0.08973456, 0.25026941, 0.77127351, 0.32080676,\n",
       "       0.25384078, 0.34924202, 0.89412946, 0.44546805, 0.61064223,\n",
       "       0.24435098, 0.78442702, 0.73968465, 0.7298458 , 0.65170162,\n",
       "       0.2710819 , 0.0964559 , 0.28013576, 0.70718961, 0.4593773 ,\n",
       "       0.12529666, 0.7001314 , 0.53524232, 0.25125332, 0.71422809,\n",
       "       0.18485496, 0.12453233, 0.26408979, 0.23683612, 0.22939748,\n",
       "       0.88462779, 0.23272196, 0.75543942, 0.24082042, 0.20969141,\n",
       "       0.60153782, 0.73125498, 0.70560126, 0.67575955, 0.43521068,\n",
       "       0.43340125, 0.22827616, 0.87096491, 0.74673204, 0.14849485,\n",
       "       0.09597737, 0.91115517, 0.67341481, 0.40587287, 0.56808575,\n",
       "       0.61089756, 0.77178522, 0.83218538, 0.57010053, 0.28963318,\n",
       "       0.23386317, 0.13341992, 0.82033086, 0.51484764, 0.25482954,\n",
       "       0.29268225, 0.23112053, 0.14500338, 0.68569376, 0.28070721,\n",
       "       0.62908087, 0.24022072, 0.23612179, 0.29758151, 0.2841349 ,\n",
       "       0.57529595, 0.45248698, 0.29891686, 0.26489094, 0.47232453])"
      ]
     },
     "execution_count": 137,
     "metadata": {},
     "output_type": "execute_result"
    }
   ],
   "source": [
    "#This will give us the probabilities of excessive absenteeism and this result his much cooler than simply 1 or 0\n",
    "#probability of beging 1 \n",
    "predicted_proba[:,1]"
   ]
  },
  {
   "cell_type": "code",
   "execution_count": null,
   "metadata": {},
   "outputs": [],
   "source": []
  }
 ],
 "metadata": {
  "kernelspec": {
   "display_name": "Python 3",
   "language": "python",
   "name": "python3"
  },
  "language_info": {
   "codemirror_mode": {
    "name": "ipython",
    "version": 3
   },
   "file_extension": ".py",
   "mimetype": "text/x-python",
   "name": "python",
   "nbconvert_exporter": "python",
   "pygments_lexer": "ipython3",
   "version": "3.7.0"
  }
 },
 "nbformat": 4,
 "nbformat_minor": 2
}
